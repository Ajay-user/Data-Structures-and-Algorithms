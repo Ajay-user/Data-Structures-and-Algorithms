{
 "cells": [
  {
   "cell_type": "code",
   "execution_count": 1,
   "metadata": {},
   "outputs": [],
   "source": [
    "import time\n",
    "import random\n",
    "import math\n",
    "import sys\n",
    "import pandas as pd\n",
    "import numpy as np\n",
    "import matplotlib.pyplot as plt\n",
    "%matplotlib inline"
   ]
  },
  {
   "cell_type": "markdown",
   "metadata": {},
   "source": [
    "## Problem - Flight Scheduling\n",
    "> #### A group of people are planning a meeting\n",
    "\n",
    "> #### Each individual lives in a different city and they are agreed to meet at a specific city ,say X\n",
    "\n",
    "> #### Each individual takes a direct flight from their city to the location X\n",
    "\n",
    "> #### We want to find a schedule which will minimize the cost of travel and time spend waiting for others \n"
   ]
  },
  {
   "cell_type": "markdown",
   "metadata": {},
   "source": [
    "### Lets look at an example of arrival at target location\n",
    "\n",
    "* person from london arrive early so he has to wait the most \n",
    "* person from dublin arrive the last so he wait the least\n",
    "\n",
    "![caption](images/arrival.png)\n"
   ]
  },
  {
   "cell_type": "markdown",
   "metadata": {},
   "source": [
    "### Let's look at an example of departure from target location to home\n",
    "* person from paris has to wait for 12hrs because his flight was scheduled at 8pm\n",
    "* person from london does not have to wait because his flight was scheduled at 8am\n",
    "\n",
    "![](images/departure.png)"
   ]
  },
  {
   "cell_type": "markdown",
   "metadata": {},
   "source": [
    "## People"
   ]
  },
  {
   "cell_type": "code",
   "execution_count": 2,
   "metadata": {},
   "outputs": [],
   "source": [
    "# people contains a list of tuples with city and name-of-airport (code of airport in the city)\n",
    "\n",
    "# lets say there are six people from different location planning to meet at a location in rome \n",
    "\n",
    "\n",
    "people = [('Lisbon', 'LIS'),\n",
    "          ('Madrid', 'MAD'),\n",
    "          ('Paris', 'CDG'),\n",
    "          ('Dublin', 'DUB'),\n",
    "          ('Brussels', 'BRU'),\n",
    "          ('London', 'LHR')]"
   ]
  },
  {
   "cell_type": "markdown",
   "metadata": {},
   "source": [
    "## Set a destination\n",
    "\n",
    "Rome–Fiumicino International Airport \"Leonardo da Vinci\" is an international airport in Rome and the major airport in Italy. It is one of the busiest airports in Europe by passenger traffic with over 43.5 million passengers served in 2019.\n",
    "\n",
    "Rome–Fiumicino International Airport \"Leonardo da Vinci\" ( IATA: FCO, ICAO: LIRF) "
   ]
  },
  {
   "cell_type": "code",
   "execution_count": 3,
   "metadata": {},
   "outputs": [],
   "source": [
    "destination = 'FCO'"
   ]
  },
  {
   "cell_type": "markdown",
   "metadata": {},
   "source": [
    "## Flights data\n",
    "\n",
    "data format `from` `to` `departure` `arriva` `cost`"
   ]
  },
  {
   "cell_type": "code",
   "execution_count": 4,
   "metadata": {},
   "outputs": [
    {
     "name": "stdout",
     "output_type": "stream",
     "text": [
      "FCO,LIS,6:19,8:13,239\n",
      "\n",
      "LIS,FCO,6:11,8:31,249\n",
      "\n",
      "FCO,LIS,8:04,10:59,136\n",
      "\n",
      "LIS,FCO,7:39,10:24,219\n",
      "\n",
      "FCO,LIS,9:31,11:43,210\n",
      "\n",
      "LIS,FCO,9:15,12:03,99\n",
      "\n",
      "FCO,LIS,11:07,13:24,171\n",
      "\n",
      "LIS,FCO,11:08,13:07,175\n",
      "\n",
      "FCO,LIS,12:31,14:02,234\n",
      "\n",
      "LIS,FCO,12:18,14:56,172\n",
      "\n",
      "FCO,LIS,14:05,15:47,226\n",
      "\n",
      "LIS,FCO,13:37,15:08,250\n",
      "\n",
      "FCO,LIS,15:07,17:21,129\n",
      "\n",
      "LIS,FCO,15:03,16:42,135\n",
      "\n",
      "FCO,LIS,16:35,18:56,144\n",
      "\n",
      "LIS,FCO,16:51,19:09,147\n",
      "\n",
      "FCO,LIS,18:25,20:34,205\n",
      "\n",
      "LIS,FCO,18:12,20:17,242\n",
      "\n",
      "FCO,LIS,20:05,21:44,172\n",
      "\n",
      "LIS,FCO,20:05,22:06,261\n",
      "\n",
      "FCO,MAD,6:03,8:43,219\n",
      "\n",
      "MAD,FCO,6:05,8:32,174\n",
      "\n",
      "FCO,MAD,7:50,10:08,164\n",
      "\n",
      "MAD,FCO,8:25,10:34,157\n",
      "\n",
      "FCO,MAD,9:11,10:42,172\n",
      "\n",
      "MAD,FCO,9:42,11:32,169\n",
      "\n",
      "FCO,MAD,10:33,13:11,132\n",
      "\n",
      "MAD,FCO,11:01,12:39,260\n",
      "\n",
      "FCO,MAD,12:08,14:47,231\n",
      "\n",
      "MAD,FCO,12:44,14:17,134\n",
      "\n",
      "FCO,MAD,14:19,17:09,190\n",
      "\n",
      "MAD,FCO,14:22,16:32,126\n",
      "\n",
      "FCO,MAD,15:04,17:23,189\n",
      "\n",
      "MAD,FCO,15:58,18:40,173\n",
      "\n",
      "FCO,MAD,17:06,20:00,95\n",
      "\n",
      "MAD,FCO,16:43,19:00,246\n",
      "\n",
      "FCO,MAD,18:33,20:22,143\n",
      "\n",
      "MAD,FCO,18:48,21:45,246\n",
      "\n",
      "FCO,MAD,19:32,21:25,160\n",
      "\n",
      "MAD,FCO,19:50,22:24,269\n",
      "\n",
      "FCO,CDG,6:33,9:14,172\n",
      "\n",
      "CDG,FCO,6:25,9:30,335\n",
      "\n",
      "FCO,CDG,8:23,11:07,143\n",
      "\n",
      "CDG,FCO,7:34,9:40,324\n",
      "\n",
      "FCO,CDG,9:25,12:46,295\n",
      "\n",
      "CDG,FCO,9:15,12:29,225\n",
      "\n",
      "FCO,CDG,11:08,14:38,262\n",
      "\n",
      "CDG,FCO,11:28,14:40,248\n",
      "\n",
      "FCO,CDG,12:37,15:05,170\n",
      "\n",
      "CDG,FCO,12:05,15:30,330\n",
      "\n",
      "FCO,CDG,14:08,16:09,232\n",
      "\n",
      "CDG,FCO,14:01,17:24,338\n",
      "\n",
      "FCO,CDG,15:23,18:49,150\n",
      "\n",
      "CDG,FCO,15:34,18:11,326\n",
      "\n",
      "FCO,CDG,16:50,19:26,304\n",
      "\n",
      "CDG,FCO,17:07,20:04,291\n",
      "\n",
      "FCO,CDG,18:07,21:30,355\n",
      "\n",
      "CDG,FCO,18:23,21:35,134\n",
      "\n",
      "FCO,CDG,20:27,23:42,169\n",
      "\n",
      "CDG,FCO,19:53,22:21,173\n",
      "\n",
      "FCO,DUB,6:39,8:09,86\n",
      "\n",
      "DUB,FCO,6:17,8:26,89\n",
      "\n",
      "FCO,DUB,8:23,10:28,149\n",
      "\n",
      "DUB,FCO,8:04,10:11,95\n",
      "\n",
      "FCO,DUB,9:58,11:18,130\n",
      "\n",
      "DUB,FCO,9:45,11:50,172\n",
      "\n",
      "FCO,DUB,10:33,12:03,74\n",
      "\n",
      "DUB,FCO,11:16,13:29,83\n",
      "\n",
      "FCO,DUB,12:08,14:05,142\n",
      "\n",
      "DUB,FCO,12:34,15:02,109\n",
      "\n",
      "FCO,DUB,13:39,15:30,74\n",
      "\n",
      "DUB,FCO,13:40,15:37,138\n",
      "\n",
      "FCO,DUB,15:25,16:58,62\n",
      "\n",
      "DUB,FCO,15:27,17:18,151\n",
      "\n",
      "FCO,DUB,17:03,18:03,103\n",
      "\n",
      "DUB,FCO,17:11,18:30,108\n",
      "\n",
      "FCO,DUB,18:24,20:49,124\n",
      "\n",
      "DUB,FCO,18:34,19:36,136\n",
      "\n",
      "FCO,DUB,19:58,21:23,142\n",
      "\n",
      "DUB,FCO,20:17,22:22,102\n",
      "\n",
      "FCO,BRU,6:09,9:49,414\n",
      "\n",
      "BRU,FCO,6:12,10:22,230\n",
      "\n",
      "FCO,BRU,7:57,11:15,347\n",
      "\n",
      "BRU,FCO,7:53,11:37,433\n",
      "\n",
      "FCO,BRU,9:49,13:51,229\n",
      "\n",
      "BRU,FCO,9:08,12:12,364\n",
      "\n",
      "FCO,BRU,10:51,14:16,256\n",
      "\n",
      "BRU,FCO,10:30,14:57,290\n",
      "\n",
      "FCO,BRU,12:20,16:34,500\n",
      "\n",
      "BRU,FCO,12:19,15:25,342\n",
      "\n",
      "FCO,BRU,14:20,17:32,332\n",
      "\n",
      "BRU,FCO,13:54,18:02,294\n",
      "\n",
      "FCO,BRU,15:49,20:10,497\n",
      "\n",
      "BRU,FCO,15:44,18:55,382\n",
      "\n",
      "FCO,BRU,17:14,20:59,277\n",
      "\n",
      "BRU,FCO,16:52,20:48,448\n",
      "\n",
      "FCO,BRU,18:44,22:42,351\n",
      "\n",
      "BRU,FCO,18:26,21:29,464\n",
      "\n",
      "FCO,BRU,19:57,23:15,512\n",
      "\n",
      "BRU,FCO,20:07,23:27,473\n",
      "\n",
      "FCO,LHR,6:58,9:01,238\n",
      "\n",
      "LHR,FCO,6:08,8:06,224\n",
      "\n",
      "FCO,LHR,8:19,11:16,122\n",
      "\n",
      "LHR,FCO,8:27,10:45,139\n",
      "\n",
      "FCO,LHR,9:58,12:56,249\n",
      "\n",
      "LHR,FCO,9:15,12:14,247\n",
      "\n",
      "FCO,LHR,10:32,13:16,139\n",
      "\n",
      "LHR,FCO,10:53,13:36,189\n",
      "\n",
      "FCO,LHR,12:01,13:41,267\n",
      "\n",
      "LHR,FCO,12:08,14:59,149\n",
      "\n",
      "FCO,LHR,13:37,15:33,142\n",
      "\n",
      "LHR,FCO,13:40,15:38,137\n",
      "\n",
      "FCO,LHR,15:50,18:45,243\n",
      "\n",
      "LHR,FCO,15:23,17:25,232\n",
      "\n",
      "FCO,LHR,16:33,18:15,253\n",
      "\n",
      "LHR,FCO,17:08,19:08,262\n",
      "\n",
      "FCO,LHR,18:17,21:04,259\n",
      "\n",
      "LHR,FCO,18:35,20:28,204\n",
      "\n",
      "FCO,LHR,19:46,21:45,214\n",
      "\n",
      "LHR,FCO,20:30,23:11,114\n",
      "\n"
     ]
    }
   ],
   "source": [
    "# let take a look at fligts data\n",
    "\n",
    "for line in open('flight data/flights.txt'):\n",
    "    print(line)"
   ]
  },
  {
   "cell_type": "markdown",
   "metadata": {},
   "source": [
    "## Create a dataframe"
   ]
  },
  {
   "cell_type": "code",
   "execution_count": 5,
   "metadata": {},
   "outputs": [
    {
     "data": {
      "text/html": [
       "<div>\n",
       "<style scoped>\n",
       "    .dataframe tbody tr th:only-of-type {\n",
       "        vertical-align: middle;\n",
       "    }\n",
       "\n",
       "    .dataframe tbody tr th {\n",
       "        vertical-align: top;\n",
       "    }\n",
       "\n",
       "    .dataframe thead th {\n",
       "        text-align: right;\n",
       "    }\n",
       "</style>\n",
       "<table border=\"1\" class=\"dataframe\">\n",
       "  <thead>\n",
       "    <tr style=\"text-align: right;\">\n",
       "      <th></th>\n",
       "      <th>Origin</th>\n",
       "      <th>Destination</th>\n",
       "      <th>Departure</th>\n",
       "      <th>Arrival</th>\n",
       "      <th>Cost</th>\n",
       "    </tr>\n",
       "  </thead>\n",
       "  <tbody>\n",
       "    <tr>\n",
       "      <th>0</th>\n",
       "      <td>FCO</td>\n",
       "      <td>LIS</td>\n",
       "      <td>6:19</td>\n",
       "      <td>8:13</td>\n",
       "      <td>239</td>\n",
       "    </tr>\n",
       "    <tr>\n",
       "      <th>1</th>\n",
       "      <td>LIS</td>\n",
       "      <td>FCO</td>\n",
       "      <td>6:11</td>\n",
       "      <td>8:31</td>\n",
       "      <td>249</td>\n",
       "    </tr>\n",
       "    <tr>\n",
       "      <th>2</th>\n",
       "      <td>FCO</td>\n",
       "      <td>LIS</td>\n",
       "      <td>8:04</td>\n",
       "      <td>10:59</td>\n",
       "      <td>136</td>\n",
       "    </tr>\n",
       "    <tr>\n",
       "      <th>3</th>\n",
       "      <td>LIS</td>\n",
       "      <td>FCO</td>\n",
       "      <td>7:39</td>\n",
       "      <td>10:24</td>\n",
       "      <td>219</td>\n",
       "    </tr>\n",
       "    <tr>\n",
       "      <th>4</th>\n",
       "      <td>FCO</td>\n",
       "      <td>LIS</td>\n",
       "      <td>9:31</td>\n",
       "      <td>11:43</td>\n",
       "      <td>210</td>\n",
       "    </tr>\n",
       "  </tbody>\n",
       "</table>\n",
       "</div>"
      ],
      "text/plain": [
       "  Origin Destination Departure Arrival  Cost\n",
       "0    FCO         LIS      6:19    8:13   239\n",
       "1    LIS         FCO      6:11    8:31   249\n",
       "2    FCO         LIS      8:04   10:59   136\n",
       "3    LIS         FCO      7:39   10:24   219\n",
       "4    FCO         LIS      9:31   11:43   210"
      ]
     },
     "execution_count": 5,
     "metadata": {},
     "output_type": "execute_result"
    }
   ],
   "source": [
    "\n",
    "flight_data=[]\n",
    "for line in open('flight data/flights.txt'):\n",
    "    origin, destination, departure, arrival, cost = line.split(',')\n",
    "    flight_data.append([ origin, destination, departure, arrival, int(cost)])\n",
    "  \n",
    "df = pd.DataFrame(data=flight_data, columns=['Origin','Destination','Departure','Arrival','Cost'])\n",
    "df.head()"
   ]
  },
  {
   "cell_type": "code",
   "execution_count": 6,
   "metadata": {},
   "outputs": [],
   "source": [
    "# lets create a dict \n",
    "# keys of dict are the locations: from & to or  origin & destination\n",
    "# values of dict will the departure time, arrival time and cost of flight\n",
    "\n",
    "data = {}\n",
    "for line in open('flight data/flights.txt'):\n",
    "    origin, destination, departure, arrival, cost = line.split(',')\n",
    "    try:\n",
    "        data[(origin,destination)].append([departure, arrival, int(cost)])\n",
    "    except:\n",
    "        data[(origin,destination)] = [[departure, arrival, int(cost)]]\n",
    "          "
   ]
  },
  {
   "cell_type": "code",
   "execution_count": 7,
   "metadata": {},
   "outputs": [
    {
     "data": {
      "text/plain": [
       "[['6:11', '8:31', 249],\n",
       " ['7:39', '10:24', 219],\n",
       " ['9:15', '12:03', 99],\n",
       " ['11:08', '13:07', 175],\n",
       " ['12:18', '14:56', 172],\n",
       " ['13:37', '15:08', 250],\n",
       " ['15:03', '16:42', 135],\n",
       " ['16:51', '19:09', 147],\n",
       " ['18:12', '20:17', 242],\n",
       " ['20:05', '22:06', 261]]"
      ]
     },
     "execution_count": 7,
     "metadata": {},
     "output_type": "execute_result"
    }
   ],
   "source": [
    "# lets look at the data of flights from Lisbon to Rome (direct flights)\n",
    "# LIS is the key for LISBON - airport code\n",
    "# FCO is the key for ROME - airport code\n",
    "data[('LIS','FCO')]"
   ]
  },
  {
   "cell_type": "code",
   "execution_count": 8,
   "metadata": {},
   "outputs": [],
   "source": [
    "# lets create a dataframe for each people - direct flights data\n",
    "\n",
    "flight_options_arrivals_from = {}\n",
    "flight_options_departure_to = {}\n",
    "\n",
    "for person in people:\n",
    "    key = person[0]\n",
    "    flight_options_arrivals_from[key] = data[(person[1],'FCO')]\n",
    "    flight_options_departure_to[key] = data[('FCO',person[1])]\n",
    "    "
   ]
  },
  {
   "cell_type": "code",
   "execution_count": 9,
   "metadata": {},
   "outputs": [
    {
     "data": {
      "text/plain": [
       "[['6:11', '8:31', 249],\n",
       " ['7:39', '10:24', 219],\n",
       " ['9:15', '12:03', 99],\n",
       " ['11:08', '13:07', 175],\n",
       " ['12:18', '14:56', 172],\n",
       " ['13:37', '15:08', 250],\n",
       " ['15:03', '16:42', 135],\n",
       " ['16:51', '19:09', 147],\n",
       " ['18:12', '20:17', 242],\n",
       " ['20:05', '22:06', 261]]"
      ]
     },
     "execution_count": 9,
     "metadata": {},
     "output_type": "execute_result"
    }
   ],
   "source": [
    "# options for person from Lisbon to arrive at Rome\n",
    "flight_options_arrivals_from['Lisbon']"
   ]
  },
  {
   "cell_type": "code",
   "execution_count": 10,
   "metadata": {},
   "outputs": [
    {
     "data": {
      "text/plain": [
       "[['6:19', '8:13', 239],\n",
       " ['8:04', '10:59', 136],\n",
       " ['9:31', '11:43', 210],\n",
       " ['11:07', '13:24', 171],\n",
       " ['12:31', '14:02', 234],\n",
       " ['14:05', '15:47', 226],\n",
       " ['15:07', '17:21', 129],\n",
       " ['16:35', '18:56', 144],\n",
       " ['18:25', '20:34', 205],\n",
       " ['20:05', '21:44', 172]]"
      ]
     },
     "execution_count": 10,
     "metadata": {},
     "output_type": "execute_result"
    }
   ],
   "source": [
    "# options for person from Lisbon to depart from Rome back to home(lisbon in this case)\n",
    "flight_options_departure_to['Lisbon']"
   ]
  },
  {
   "cell_type": "markdown",
   "metadata": {},
   "source": [
    "## Schedule \n",
    "We want a schedule that will minimize both cost of travel and time spend waiting \n",
    "\n",
    "How can we achieve that?\n",
    "\n",
    "What do we give prefrence to ?  time or money ?"
   ]
  },
  {
   "cell_type": "code",
   "execution_count": 11,
   "metadata": {},
   "outputs": [
    {
     "name": "stdout",
     "output_type": "stream",
     "text": [
      "Minimum cost flight from Lisbon to Rome departure time 9:15\n",
      "Minimum cost flight from Lisbon to Rome arrival time 12:03\n",
      "Minimum cost flight from Lisbon to Rome cost 99\n"
     ]
    }
   ],
   "source": [
    "# let's find a flight from lisbon to rome that cost the least\n",
    "\n",
    "flight_index=0\n",
    "index = -1\n",
    "min_cost = 10e+10 # set a large value as min cost (initialization)\n",
    "for option in flight_options_arrivals_from['Lisbon']:\n",
    "    index+=1\n",
    "    if min_cost>option[2]:\n",
    "        flight_index = index\n",
    "        min_cost = option[2]\n",
    "    \n",
    "\n",
    "\n",
    "print('Minimum cost flight from Lisbon to Rome departure time',flight_options_arrivals_from['Lisbon'][flight_index][0])\n",
    "print('Minimum cost flight from Lisbon to Rome arrival time',flight_options_arrivals_from['Lisbon'][flight_index][1])\n",
    "print('Minimum cost flight from Lisbon to Rome cost',flight_options_arrivals_from['Lisbon'][flight_index][2])"
   ]
  },
  {
   "cell_type": "code",
   "execution_count": 12,
   "metadata": {},
   "outputs": [
    {
     "name": "stdout",
     "output_type": "stream",
     "text": [
      "Minimum cost flight from Rome to Lisbon departure time 15:07\n",
      "Minimum cost flight from Rome to Lisbon arrival time 17:21\n",
      "Minimum cost flight from Rome to Lisbon cost 129\n"
     ]
    }
   ],
   "source": [
    "# let's find a flight from rome to lisbon that cost the least\n",
    "\n",
    "flight_index=0\n",
    "index = -1\n",
    "min_cost = 10e+10 # set a large value as min cost (initialization)\n",
    "for option in flight_options_departure_to['Lisbon']:\n",
    "    index+=1\n",
    "    if min_cost>option[2]:\n",
    "        flight_index = index\n",
    "        min_cost = option[2]\n",
    "    \n",
    "\n",
    "\n",
    "print('Minimum cost flight from Rome to Lisbon departure time',flight_options_departure_to['Lisbon'][flight_index][0])\n",
    "print('Minimum cost flight from Rome to Lisbon arrival time',flight_options_departure_to['Lisbon'][flight_index][1])\n",
    "print('Minimum cost flight from Rome to Lisbon cost',flight_options_departure_to['Lisbon'][flight_index][2])"
   ]
  },
  {
   "cell_type": "code",
   "execution_count": 13,
   "metadata": {},
   "outputs": [],
   "source": [
    "# let write a method that will get the min cost "
   ]
  },
  {
   "cell_type": "markdown",
   "metadata": {},
   "source": [
    "## We want to find a schedule that will minimize cost & time\n",
    "eg of schedule = **[(1,2), (3,2), (7,3), (6,3), (2,4), (5,3)]**\n",
    "\n",
    "each tuple in the list corresponds to a user flight \n",
    "\n",
    "**(1,2)** means user will take  **flight_options_arrival['Lisbon'][`1`]** and **flight_options_departure['Lisbon'][`2`]**\n",
    "\n",
    "we want a schedule that minimize the cost and time"
   ]
  },
  {
   "cell_type": "markdown",
   "metadata": {},
   "source": [
    "## Print Schedule Utility function\n",
    "\n",
    "given a schedule this fn will output the details of travel"
   ]
  },
  {
   "cell_type": "code",
   "execution_count": 14,
   "metadata": {},
   "outputs": [],
   "source": [
    "def print_schedule(schedule):\n",
    "    i=-1\n",
    "    for index in schedule :\n",
    "        i=i+1\n",
    "        city_name = people[i][0] # city name\n",
    "        origin = people[i][1]    # airport code\n",
    "\n",
    "        flight_id = index[0]     # scheduled flight index\n",
    "        flight_going = flight_options_arrivals_from[city_name][flight_id] #flight details\n",
    "        \n",
    "        flight_id = index[1]     # scheduled flight index\n",
    "        flight_return = flight_options_departure_to[city_name][flight_id] #flight details\n",
    "\n",
    "        cost_of_travel = flight_going[2]+flight_return[2]\n",
    "\n",
    "        print('Person from ',city_name)\n",
    "        print('Travel cost',cost_of_travel)\n",
    "        print('Departure from',city_name,flight_going[0],'arrival at Rome',flight_going[1],',flight cost:',flight_going[2],'$')\n",
    "        print('Departure from Rome',flight_return[0],'arrival at',city_name,flight_return[1],',flight cost:',flight_return[2],'$')\n",
    "        print('------------------------------------------------------------------------')\n",
    "\n",
    "    "
   ]
  },
  {
   "cell_type": "code",
   "execution_count": 15,
   "metadata": {},
   "outputs": [
    {
     "name": "stdout",
     "output_type": "stream",
     "text": [
      "Person from  Lisbon\n",
      "Travel cost 429\n",
      "Departure from Lisbon 7:39 arrival at Rome 10:24 ,flight cost: 219 $\n",
      "Departure from Rome 9:31 arrival at Lisbon 11:43 ,flight cost: 210 $\n",
      "------------------------------------------------------------------------\n",
      "Person from  Madrid\n",
      "Travel cost 432\n",
      "Departure from Madrid 11:01 arrival at Rome 12:39 ,flight cost: 260 $\n",
      "Departure from Rome 9:11 arrival at Madrid 10:42 ,flight cost: 172 $\n",
      "------------------------------------------------------------------------\n",
      "Person from  Paris\n",
      "Travel cost 553\n",
      "Departure from Paris 17:07 arrival at Rome 20:04 ,flight cost: 291 $\n",
      "Departure from Rome 11:08 arrival at Paris 14:38 ,flight cost: 262 $\n",
      "------------------------------------------------------------------------\n",
      "Person from  Dublin\n",
      "Travel cost 225\n",
      "Departure from Dublin 15:27 arrival at Rome 17:18 ,flight cost: 151 $\n",
      "Departure from Rome 10:33 arrival at Dublin 12:03 ,flight cost: 74 $\n",
      "------------------------------------------------------------------------\n",
      "Person from  Brussels\n",
      "Travel cost 864\n",
      "Departure from Brussels 9:08 arrival at Rome 12:12 ,flight cost: 364 $\n",
      "Departure from Rome 12:20 arrival at Brussels 16:34 ,flight cost: 500 $\n",
      "------------------------------------------------------------------------\n",
      "Person from  London\n",
      "Travel cost 276\n",
      "Departure from London 13:40 arrival at Rome 15:38 ,flight cost: 137 $\n",
      "Departure from Rome 10:32 arrival at London 13:16 ,flight cost: 139 $\n",
      "------------------------------------------------------------------------\n"
     ]
    }
   ],
   "source": [
    "schedule = [(1,2), (3,2), (7,3), (6,3), (2,4), (5,3)]\n",
    "\n",
    "print_schedule(schedule)"
   ]
  },
  {
   "cell_type": "markdown",
   "metadata": {},
   "source": [
    "## Utility functions \n",
    "\n",
    "> ## String to time object\n",
    "\n",
    "We can use time() function alongwith strptime() function to convert string to time object.\n",
    "\n",
    "`time_str = '13::55::26'`\n",
    "\n",
    "time_object = **datetime.strptime(time_str, '%H::%M::%S').time()**\n",
    "\n",
    "`print(type(time_object))`\n",
    "\n",
    "`print(time_object)`\n",
    "\n",
    "**Output:**\n",
    "\n",
    "<class 'datetime.time'>\n",
    "\n",
    "**13:55:26**"
   ]
  },
  {
   "cell_type": "code",
   "execution_count": 16,
   "metadata": {},
   "outputs": [],
   "source": [
    "def get_time(t):\n",
    "    t = time.strptime(t, '%H:%M')\n",
    "    hour = t[3]\n",
    "    minutes = t[4]    \n",
    "    return hour,minutes\n",
    "\n",
    "def get_time_diff(departure,arrival):\n",
    "    hr_1, m_1 = get_time(departure)\n",
    "    hr_2, m_2 = get_time(arrival)\n",
    "  \n",
    "    hour = hr_2- hr_1\n",
    "    minutes = m_2- m_1\n",
    "    \n",
    "    return hour,minutes\n",
    "\n",
    "def get_minutes(hour,minutes):\n",
    "    return hour*60+minutes\n",
    "\n",
    "def convert_minutes_to_time(minutes):\n",
    "    hr = minutes//60\n",
    "    mm = minutes%60\n",
    "    return str(hr)+\"hr:\"+str(mm)+\"minutes\"\n",
    "    \n",
    "    "
   ]
  },
  {
   "cell_type": "code",
   "execution_count": 17,
   "metadata": {},
   "outputs": [
    {
     "name": "stdout",
     "output_type": "stream",
     "text": [
      "Time of travel 2 hrs: -6 minutes\n",
      "Time in minutes  114 minutes\n"
     ]
    }
   ],
   "source": [
    "\n",
    "hr,m =  get_time_diff(flight_options_departure_to['Lisbon'][0][0],flight_options_departure_to['Lisbon'][0][1])\n",
    "print('Time of travel',hr,'hrs:',m,'minutes')\n",
    "print('Time in minutes ',get_minutes(hr,m),'minutes')\n",
    "\n"
   ]
  },
  {
   "cell_type": "markdown",
   "metadata": {},
   "source": [
    "## Cost function\n",
    "\n",
    "we can use this function to find the total waiting time and total flight-fare for the journey \n",
    "\n",
    "while going to rome the person who arrive the earliest has to wait the most and person who arrive last waste no time waiting\n",
    "\n",
    "while returning, the person whose departure time is the lowest does not have to waiting at airport and the person whose departure time the highest has to wait the most in the airport\n",
    "\n",
    "lets create a cost function that will output the cost given a schedule"
   ]
  },
  {
   "cell_type": "code",
   "execution_count": 18,
   "metadata": {},
   "outputs": [],
   "source": [
    "# given a schedule find who arrived first and who arrived last\n",
    "def cost_function(schedule, toPrint=False):\n",
    "    cost_dict={'going':{},'returning':{}, 'going_flight_data':[], 'returning_flight_data':[]}\n",
    "    i=-1\n",
    "    for index in schedule:\n",
    "        i=i+1\n",
    "        city_name = people[i][0] # city name\n",
    "        origin = people[i][1]    # airport code\n",
    "        \n",
    "        flight_id = index[0]     # scheduled flight index\n",
    "        flight_going = flight_options_arrivals_from[city_name][flight_id] #flight details\n",
    "        flight_id = index[1]\n",
    "        flight_return = flight_options_departure_to[city_name][flight_id] #flight details\n",
    "        \n",
    "        cost_dict['going_flight_data'].append(flight_going)\n",
    "        cost_dict['returning_flight_data'].append(flight_return)\n",
    "        \n",
    "\n",
    "        key_1 = get_minutes(*get_time(flight_going[1])) # time of arrival at rome\n",
    "        val_1 = flight_going[2]\n",
    "        \n",
    "        if key_1 in cost_dict['going'].keys():   # if key already exists re-run\n",
    "            return cost_function(generate_schedule(),toPrint)\n",
    "        else:\n",
    "            cost_dict['going'][key_1]=val_1\n",
    "        \n",
    "        key_2 = get_minutes(*get_time(flight_return[0])) # time of departure from rome\n",
    "        val_2 = flight_return[2]\n",
    "        \n",
    "        if key_2 in cost_dict['returning'].keys():   # if key already exists re-run\n",
    "            return cost_function(generate_schedule(),toPrint)\n",
    "        else:\n",
    "            cost_dict['returning'][key_2]=val_2\n",
    "        \n",
    "        \n",
    "        \n",
    "            \n",
    "    time_spend_waiting_on_arrival = [max(cost_dict['going'].keys())-key for key in  cost_dict['going'].keys()]\n",
    "    time_spend_waiting_on_departure = [key-min(cost_dict['returning'].keys()) for key in  cost_dict['returning'].keys()]\n",
    "    \n",
    "    total_time_spend_waiting = sum(time_spend_waiting_on_arrival)+sum(time_spend_waiting_on_departure)\n",
    "    \n",
    "    total_money_spend = sum(cost_dict['going'].values())+sum(cost_dict['returning'].values())\n",
    "\n",
    "    \n",
    "    if toPrint:\n",
    "        print('*************************************************************************************************\\n')\n",
    "        print('Schedule',schedule)\n",
    "        print('Total flight charge for going to Rome',sum(cost_dict['going'].values()),'$')\n",
    "        print('Total flight charge for returning from Rome',sum(cost_dict['returning'].values()),'$')\n",
    "        print('Net flight charge for the journey',total_money_spend,'$')\n",
    "        print('Total time spend waiting at airport on arrival at Rome',sum(time_spend_waiting_on_arrival),'minutes, \\t',convert_minutes_to_time(sum(time_spend_waiting_on_arrival)))\n",
    "        print('Total time spend waiting at airport on departure at Rome',sum(time_spend_waiting_on_departure),'minutes, \\t',convert_minutes_to_time(sum(time_spend_waiting_on_departure)))\n",
    "        print('Net time spend waiting',total_time_spend_waiting,'minutes, \\t',convert_minutes_to_time(total_time_spend_waiting),'\\n')\n",
    "        \n",
    "        print('Travelling to Rome')\n",
    "        df_1 =pd.DataFrame(data=cost_dict['going_flight_data'], columns=['Departure', 'Arrival', 'Cost'])\n",
    "        df_1['Waiting (minutes)'] = time_spend_waiting_on_arrival \n",
    "        df_1['Waiting(hr:mm)'] = [convert_minutes_to_time(minutes) for minutes in time_spend_waiting_on_arrival]\n",
    "        print(df_1)\n",
    "        print('\\nTravelling from Rome')\n",
    "        df_2=pd.DataFrame(data=cost_dict['returning_flight_data'], columns=['Departure', 'Arrival', 'Cost'])\n",
    "        df_2['Waiting(minutes)'] = time_spend_waiting_on_departure\n",
    "        df_2['Waiting(hr:mm)'] = [convert_minutes_to_time(minutes) for minutes in time_spend_waiting_on_departure]\n",
    "        print(df_2)\n",
    "        print('\\n*************************************************************************************************\\n')\n",
    "        \n",
    "    return total_money_spend, total_time_spend_waiting, cost_dict        \n",
    "        "
   ]
  },
  {
   "cell_type": "code",
   "execution_count": 19,
   "metadata": {},
   "outputs": [
    {
     "name": "stdout",
     "output_type": "stream",
     "text": [
      "*************************************************************************************************\n",
      "\n",
      "Schedule [(1, 2), (3, 2), (7, 3), (6, 3), (2, 4), (5, 3)]\n",
      "Total flight charge for going to Rome 1422 $\n",
      "Total flight charge for returning from Rome 1357 $\n",
      "Net flight charge for the journey 2779 $\n",
      "Total time spend waiting at airport on arrival at Rome 1929 minutes, \t 32hr:9minutes\n",
      "Total time spend waiting at airport on departure at Rome 489 minutes, \t 8hr:9minutes\n",
      "Net time spend waiting 2418 minutes, \t 40hr:18minutes \n",
      "\n",
      "Travelling to Rome\n",
      "  Departure Arrival  Cost  Waiting (minutes) Waiting(hr:mm)\n",
      "0      7:39   10:24   219                580  9hr:40minutes\n",
      "1     11:01   12:39   260                445  7hr:25minutes\n",
      "2     17:07   20:04   291                  0   0hr:0minutes\n",
      "3     15:27   17:18   151                166  2hr:46minutes\n",
      "4      9:08   12:12   364                472  7hr:52minutes\n",
      "5     13:40   15:38   137                266  4hr:26minutes\n",
      "\n",
      "Travelling from Rome\n",
      "  Departure Arrival  Cost  Waiting(minutes) Waiting(hr:mm)\n",
      "0      9:31   11:43   210                20  0hr:20minutes\n",
      "1      9:11   10:42   172                 0   0hr:0minutes\n",
      "2     11:08   14:38   262               117  1hr:57minutes\n",
      "3     10:33   12:03    74                82  1hr:22minutes\n",
      "4     12:20   16:34   500               189   3hr:9minutes\n",
      "5     10:32   13:16   139                81  1hr:21minutes\n",
      "\n",
      "*************************************************************************************************\n",
      "\n"
     ]
    }
   ],
   "source": [
    "schedule = [(1,2), (3,2), (7,3), (6,3), (2,4), (5,3)]\n",
    "\n",
    "\n",
    "net_charge,time_waiting,obj= cost_function(schedule, toPrint=True)"
   ]
  },
  {
   "cell_type": "markdown",
   "metadata": {},
   "source": [
    "**We want to minimize the both the time spend waiting and the flight charge**\n"
   ]
  },
  {
   "cell_type": "markdown",
   "metadata": {},
   "source": [
    "#  Random Search\n",
    "\n",
    "let's create a random-schedule generator that will generate a schedule\n",
    "\n",
    "schedule is a list of tuples, having two entries\n",
    "\n",
    "we want to minimize the cost so we will iterate and save the minimum cost schedule \n"
   ]
  },
  {
   "cell_type": "code",
   "execution_count": 20,
   "metadata": {},
   "outputs": [],
   "source": [
    "def generate_schedule(num_people=len(people)):\n",
    "    schedule = []\n",
    "    for i in range(num_people):\n",
    "        a = random.randint(0,9)\n",
    "        b = random.randint(0,9)\n",
    "        schedule.append((a,b))\n",
    "    return schedule"
   ]
  },
  {
   "cell_type": "code",
   "execution_count": 21,
   "metadata": {},
   "outputs": [
    {
     "data": {
      "text/plain": [
       "[(4, 8), (9, 0), (7, 5), (4, 8), (0, 7), (5, 2)]"
      ]
     },
     "execution_count": 21,
     "metadata": {},
     "output_type": "execute_result"
    }
   ],
   "source": [
    "generate_schedule(len(people))"
   ]
  },
  {
   "cell_type": "code",
   "execution_count": 22,
   "metadata": {},
   "outputs": [
    {
     "name": "stdout",
     "output_type": "stream",
     "text": [
      "*************************************************************************************************\n",
      "\n",
      "Schedule [(1, 2), (9, 7), (9, 1), (6, 2), (5, 0), (1, 4)]\n",
      "Total flight charge for going to Rome 1245 $\n",
      "Total flight charge for returning from Rome 1259 $\n",
      "Net flight charge for the journey 2504 $\n",
      "Total time spend waiting at airport on arrival at Rome 1990 minutes, \t 33hr:10minutes\n",
      "Total time spend waiting at airport on departure at Rome 1574 minutes, \t 26hr:14minutes\n",
      "Net time spend waiting 3564 minutes, \t 59hr:24minutes \n",
      "\n",
      "Travelling to Rome\n",
      "  Departure Arrival  Cost  Waiting (minutes)  Waiting(hr:mm)\n",
      "0      7:39   10:24   219                720   12hr:0minutes\n",
      "1     19:50   22:24   269                  0    0hr:0minutes\n",
      "2     19:53   22:21   173                  3    0hr:3minutes\n",
      "3     15:27   17:18   151                306    5hr:6minutes\n",
      "4     13:54   18:02   294                262   4hr:22minutes\n",
      "5      8:27   10:45   139                699  11hr:39minutes\n",
      "\n",
      "Travelling from Rome\n",
      "  Departure Arrival  Cost  Waiting(minutes)  Waiting(hr:mm)\n",
      "0      9:31   11:43   210               202   3hr:22minutes\n",
      "1     17:06   20:00    95               657  10hr:57minutes\n",
      "2      8:23   11:07   143               134   2hr:14minutes\n",
      "3      9:58   11:18   130               229   3hr:49minutes\n",
      "4      6:09    9:49   414                 0    0hr:0minutes\n",
      "5     12:01   13:41   267               352   5hr:52minutes\n",
      "\n",
      "*************************************************************************************************\n",
      "\n"
     ]
    }
   ],
   "source": [
    "fare,wait,obj=cost_function(generate_schedule(len(people)), toPrint=True)"
   ]
  },
  {
   "cell_type": "markdown",
   "metadata": {},
   "source": [
    "### Random Search algorithm"
   ]
  },
  {
   "cell_type": "code",
   "execution_count": 23,
   "metadata": {},
   "outputs": [],
   "source": [
    "def randomSearch(num_people=len(people), num_trails=1000):\n",
    "    optimum_schedule=[]\n",
    "    cost = 10e+10 # set a high val -- initialization\n",
    "    for i in range(num_trails):\n",
    "        schedule = generate_schedule(num_people)\n",
    "        fare,wait,obj = cost_function(schedule)\n",
    "        if cost > fare+wait:\n",
    "            cost = fare+wait\n",
    "            optimum_schedule=schedule\n",
    "            \n",
    "    return optimum_schedule"
   ]
  },
  {
   "cell_type": "code",
   "execution_count": 24,
   "metadata": {},
   "outputs": [],
   "source": [
    "optimum_schedule = randomSearch() # running with default params  numTrails=1000 "
   ]
  },
  {
   "cell_type": "code",
   "execution_count": 25,
   "metadata": {},
   "outputs": [
    {
     "name": "stdout",
     "output_type": "stream",
     "text": [
      "*************************************************************************************************\n",
      "\n",
      "Schedule [(7, 1), (4, 2), (2, 4), (4, 3), (2, 3), (7, 1)]\n",
      "Total flight charge for going to Rome 1241 $\n",
      "Total flight charge for returning from Rome 930 $\n",
      "Net flight charge for the journey 2171 $\n",
      "Total time spend waiting at airport on arrival at Rome 1357 minutes, \t 22hr:37minutes\n",
      "Total time spend waiting at airport on departure at Rome 671 minutes, \t 11hr:11minutes\n",
      "Net time spend waiting 2028 minutes, \t 33hr:48minutes \n",
      "\n",
      "Travelling to Rome\n",
      "  Departure Arrival  Cost  Waiting (minutes) Waiting(hr:mm)\n",
      "0     16:51   19:09   147                  0   0hr:0minutes\n",
      "1     12:44   14:17   134                292  4hr:52minutes\n",
      "2      9:15   12:29   225                400  6hr:40minutes\n",
      "3     12:34   15:02   109                247   4hr:7minutes\n",
      "4      9:08   12:12   364                417  6hr:57minutes\n",
      "5     17:08   19:08   262                  1   0hr:1minutes\n",
      "\n",
      "Travelling from Rome\n",
      "  Departure Arrival  Cost  Waiting(minutes) Waiting(hr:mm)\n",
      "0      8:04   10:59   136                 0   0hr:0minutes\n",
      "1      9:11   10:42   172                67   1hr:7minutes\n",
      "2     12:37   15:05   170               273  4hr:33minutes\n",
      "3     10:33   12:03    74               149  2hr:29minutes\n",
      "4     10:51   14:16   256               167  2hr:47minutes\n",
      "5      8:19   11:16   122                15  0hr:15minutes\n",
      "\n",
      "*************************************************************************************************\n",
      "\n"
     ]
    }
   ],
   "source": [
    "f,w,o= cost_function(optimum_schedule,toPrint=True)"
   ]
  },
  {
   "cell_type": "code",
   "execution_count": 127,
   "metadata": {},
   "outputs": [],
   "source": [
    "# lets do 10000 trials \n",
    "optimum_schedule = randomSearch(num_trails=10000)"
   ]
  },
  {
   "cell_type": "code",
   "execution_count": 128,
   "metadata": {},
   "outputs": [
    {
     "name": "stdout",
     "output_type": "stream",
     "text": [
      "*************************************************************************************************\n",
      "\n",
      "Schedule [(4, 6), (3, 3), (3, 4), (2, 4), (1, 2), (4, 3)]\n",
      "Total flight charge for going to Rome 1434 $\n",
      "Total flight charge for returning from Rome 941 $\n",
      "Net flight charge for the journey 2375 $\n",
      "Total time spend waiting at airport on arrival at Rome 553 minutes, \t 9hr:13minutes\n",
      "Total time spend waiting at airport on departure at Rome 712 minutes, \t 11hr:52minutes\n",
      "Net time spend waiting 1265 minutes, \t 21hr:5minutes \n",
      "\n",
      "Travelling to Rome\n",
      "  Departure Arrival  Cost  Waiting (minutes) Waiting(hr:mm)\n",
      "0     12:18   14:56   172                  3   0hr:3minutes\n",
      "1     11:01   12:39   260                140  2hr:20minutes\n",
      "2     11:28   14:40   248                 19  0hr:19minutes\n",
      "3      9:45   11:50   172                189   3hr:9minutes\n",
      "4      7:53   11:37   433                202  3hr:22minutes\n",
      "5     12:08   14:59   149                  0   0hr:0minutes\n",
      "\n",
      "Travelling from Rome\n",
      "  Departure Arrival  Cost  Waiting(minutes) Waiting(hr:mm)\n",
      "0     15:07   17:21   129               318  5hr:18minutes\n",
      "1     10:33   13:11   132                44  0hr:44minutes\n",
      "2     12:37   15:05   170               168  2hr:48minutes\n",
      "3     12:08   14:05   142               139  2hr:19minutes\n",
      "4      9:49   13:51   229                 0   0hr:0minutes\n",
      "5     10:32   13:16   139                43  0hr:43minutes\n",
      "\n",
      "*************************************************************************************************\n",
      "\n"
     ]
    }
   ],
   "source": [
    "f,w,o = cost_function(optimum_schedule, toPrint=True)"
   ]
  },
  {
   "cell_type": "markdown",
   "metadata": {},
   "source": [
    "## Visualize the randomSearch results\n"
   ]
  },
  {
   "cell_type": "code",
   "execution_count": 28,
   "metadata": {},
   "outputs": [],
   "source": [
    "results ={'fare':[], 'wait':[]}\n",
    "numTrials = [10,100,1000,10000]\n",
    "\n",
    "for i in numTrials:\n",
    "    optimum = randomSearch(num_trails=i)\n",
    "    f,w,o = cost_function(optimum)\n",
    "    results['fare'].append(f)\n",
    "    results['wait'].append(w)\n"
   ]
  },
  {
   "cell_type": "code",
   "execution_count": 29,
   "metadata": {},
   "outputs": [
    {
     "data": {
      "image/png": "[encoded data removed]",
      "text/plain": [
       "<Figure size 720x360 with 1 Axes>"
      ]
     },
     "metadata": {
      "needs_background": "light"
     },
     "output_type": "display_data"
    }
   ],
   "source": [
    "plt.figure(figsize=(10,5))\n",
    "plt.plot(numTrials,results['fare'],'--^',markersize=15,color='lightgray' ,linewidth=2,markerfacecolor='lightsalmon',markeredgecolor='gray',label='flight-charge')\n",
    "plt.plot(numTrials,results['wait'],':p',markersize=15,color='lightgrey' ,linewidth=2,markerfacecolor='lightblue',markeredgecolor='gray',label='time spend waiting')\n",
    "plt.legend()\n",
    "plt.title('Optimum schedule - Random Search')\n",
    "plt.xlabel('Number of Trials')\n",
    "plt.show()"
   ]
  },
  {
   "cell_type": "markdown",
   "metadata": {},
   "source": [
    "# Hill Climbing Algorithm"
   ]
  },
  {
   "cell_type": "code",
   "execution_count": 30,
   "metadata": {},
   "outputs": [],
   "source": [
    "def one_step_neighbour(num, leftbound=0, rightbound=9, flag=True):\n",
    "    if leftbound<num and num<rightbound:\n",
    "        a = num -1\n",
    "        b = num +1\n",
    "        if flag:\n",
    "            return a\n",
    "        return b\n",
    "    if num == leftbound:\n",
    "        return num+1\n",
    "    return num-1"
   ]
  },
  {
   "cell_type": "code",
   "execution_count": 31,
   "metadata": {},
   "outputs": [
    {
     "data": {
      "text/plain": [
       "(0, 2, 1, 8)"
      ]
     },
     "execution_count": 31,
     "metadata": {},
     "output_type": "execute_result"
    }
   ],
   "source": [
    "one_step_neighbour(1, flag=True),one_step_neighbour(1, flag=False),one_step_neighbour(0),one_step_neighbour(9)"
   ]
  },
  {
   "cell_type": "code",
   "execution_count": 32,
   "metadata": {},
   "outputs": [],
   "source": [
    "def hill_climbing(schedule, toPrint=False):\n",
    "\n",
    "    num_iteration=0\n",
    "    optimum_schedule = []\n",
    "    \n",
    "    while True:\n",
    "        num_iteration+=1\n",
    "        \n",
    "        f,w,o=cost_function(schedule)\n",
    "        initial_cost=f+w\n",
    "        best_cost = initial_cost\n",
    "        neighbours = []\n",
    "        \n",
    "        if toPrint:\n",
    "            print('cost:',best_cost,'schedule:',schedule)\n",
    "\n",
    "        # create a list of all neignbours which are 1 step away \n",
    "        for i in range(len(schedule)):\n",
    "            \n",
    "            option = schedule[i]\n",
    "            \n",
    "            a,b=option\n",
    "            a_1 = one_step_neighbour(a, flag=True)  \n",
    "            a_2 = one_step_neighbour(a, flag=False)\n",
    "            b_1 = one_step_neighbour(b, flag=True)    \n",
    "            b_2 = one_step_neighbour(b, flag=False)\n",
    "            neighbours.append(schedule[0:i]+[(a_1,b_1)]+schedule[i+1:])\n",
    "            neighbours.append(schedule[0:i]+[(a_2,b_2)]+schedule[i+1:])\n",
    "\n",
    "        # algorithm looks at all neighbours(1-step-away) and move to a state that improves the costfunction\n",
    "        for option in neighbours:\n",
    "            f,w,o = cost_function(option)\n",
    "            if f+w < best_cost:\n",
    "                best_cost = f+w\n",
    "                optimum_schedule=option[:]\n",
    "                \n",
    "        if best_cost == initial_cost:\n",
    "            break\n",
    "        else:\n",
    "            schedule = optimum_schedule[:]\n",
    "    \n",
    "    if toPrint:\n",
    "            print('Number of iteration:',num_iteration,' optimum solution found:',optimum_schedule)\n",
    "    \n",
    "    return optimum_schedule           \n",
    "                      "
   ]
  },
  {
   "cell_type": "code",
   "execution_count": 125,
   "metadata": {},
   "outputs": [
    {
     "name": "stdout",
     "output_type": "stream",
     "text": [
      "cost: 6146 schedule: [(4, 2), (3, 1), (9, 4), (4, 4), (3, 5), (7, 6)]\n",
      "cost: 5525 schedule: [(4, 2), (4, 2), (9, 4), (4, 4), (3, 5), (7, 6)]\n",
      "cost: 5259 schedule: [(4, 2), (4, 2), (8, 3), (4, 4), (3, 5), (7, 6)]\n",
      "cost: 4891 schedule: [(4, 2), (4, 2), (7, 2), (4, 4), (3, 5), (7, 6)]\n",
      "cost: 4706 schedule: [(4, 2), (5, 3), (7, 2), (4, 4), (3, 5), (7, 6)]\n",
      "cost: 4545 schedule: [(4, 2), (5, 3), (7, 2), (4, 4), (3, 5), (6, 5)]\n",
      "cost: 4173 schedule: [(4, 2), (5, 3), (6, 1), (4, 4), (3, 5), (6, 5)]\n",
      "Number of iteration: 7  optimum solution found: [(4, 2), (5, 3), (6, 1), (4, 4), (3, 5), (6, 5)]\n"
     ]
    }
   ],
   "source": [
    "best_schedule_by_Hill_climbing = hill_climbing(generate_schedule(), toPrint=True)"
   ]
  },
  {
   "cell_type": "code",
   "execution_count": 126,
   "metadata": {},
   "outputs": [
    {
     "name": "stdout",
     "output_type": "stream",
     "text": [
      "*************************************************************************************************\n",
      "\n",
      "Schedule [(4, 2), (5, 3), (6, 1), (4, 4), (3, 5), (6, 5)]\n",
      "Total flight charge for going to Rome 1255 $\n",
      "Total flight charge for returning from Rome 1101 $\n",
      "Net flight charge for the journey 2356 $\n",
      "Total time spend waiting at airport on arrival at Rome 723 minutes, \t 12hr:3minutes\n",
      "Total time spend waiting at airport on departure at Rome 1094 minutes, \t 18hr:14minutes\n",
      "Net time spend waiting 1817 minutes, \t 30hr:17minutes \n",
      "\n",
      "Travelling to Rome\n",
      "  Departure Arrival  Cost  Waiting (minutes) Waiting(hr:mm)\n",
      "0     12:18   14:56   172                195  3hr:15minutes\n",
      "1     14:22   16:32   126                 99  1hr:39minutes\n",
      "2     15:34   18:11   326                  0   0hr:0minutes\n",
      "3     12:34   15:02   109                189   3hr:9minutes\n",
      "4     10:30   14:57   290                194  3hr:14minutes\n",
      "5     15:23   17:25   232                 46  0hr:46minutes\n",
      "\n",
      "Travelling from Rome\n",
      "  Departure Arrival  Cost  Waiting(minutes) Waiting(hr:mm)\n",
      "0      9:31   11:43   210                68   1hr:8minutes\n",
      "1     10:33   13:11   132               130  2hr:10minutes\n",
      "2      8:23   11:07   143                 0   0hr:0minutes\n",
      "3     12:08   14:05   142               225  3hr:45minutes\n",
      "4     14:20   17:32   332               357  5hr:57minutes\n",
      "5     13:37   15:33   142               314  5hr:14minutes\n",
      "\n",
      "*************************************************************************************************\n",
      "\n"
     ]
    }
   ],
   "source": [
    "f,w,o = cost_function(best_schedule_by_Hill_climbing,toPrint=True)"
   ]
  },
  {
   "cell_type": "markdown",
   "metadata": {},
   "source": [
    "# Simulated Annealing"
   ]
  },
  {
   "cell_type": "code",
   "execution_count": 35,
   "metadata": {},
   "outputs": [],
   "source": [
    "def random_index(num):\n",
    "    neighbours = list(range(num))\n",
    "    choice = random.choice(neighbours)\n",
    "    return choice"
   ]
  },
  {
   "cell_type": "code",
   "execution_count": 36,
   "metadata": {},
   "outputs": [
    {
     "data": {
      "text/plain": [
       "5"
      ]
     },
     "execution_count": 36,
     "metadata": {},
     "output_type": "execute_result"
    }
   ],
   "source": [
    "# eg: get a random index\n",
    "schedule = [(3, 8), (4, 4), (3, 4), (2, 1), (6, 8), (6, 0)]\n",
    "random_index(len(schedule))"
   ]
  },
  {
   "cell_type": "code",
   "execution_count": 37,
   "metadata": {},
   "outputs": [],
   "source": [
    "def make_correction(choice):\n",
    "    if choice < 0:\n",
    "        return 1\n",
    "    elif choice > 9:\n",
    "        return 8\n",
    "    else:\n",
    "        return choice\n",
    "\n",
    "\n",
    "def random_option(option):\n",
    "    a,b=option\n",
    "    if a>0 and a<9 and b>0 and b<9:\n",
    "        return random.choice([(a+1,b), (a-1,b), (a,b+1), (a,b-1)])\n",
    "    \n",
    "    choice = random.choice([(a+1,b), (a-1,b), (a,b+1), (a,b-1)])\n",
    "    a,b = choice\n",
    "    \n",
    "    a = make_correction(a)\n",
    "    b = make_correction(b)\n",
    "    \n",
    "    return (a,b)\n",
    "    \n",
    "def get_random_neighbour(schedule):\n",
    "    index = random_index(len(schedule))\n",
    "    option = schedule[index]\n",
    "    neighbour_option = random_option(option)\n",
    "    schedule[index]=neighbour_option\n",
    "    return schedule\n",
    "    \n",
    "    "
   ]
  },
  {
   "cell_type": "code",
   "execution_count": 38,
   "metadata": {},
   "outputs": [
    {
     "data": {
      "text/plain": [
       "[(3, 8), (4, 4), (3, 4), (1, 1), (6, 8), (6, 0)]"
      ]
     },
     "execution_count": 38,
     "metadata": {},
     "output_type": "execute_result"
    }
   ],
   "source": [
    "# eg: pick a random neighbour\n",
    "\n",
    "schedule = [(3, 8), (4, 4), (3, 4), (2, 1), (6, 8), (6, 0)]\n",
    "\n",
    "get_random_neighbour(schedule)"
   ]
  },
  {
   "cell_type": "code",
   "execution_count": 39,
   "metadata": {},
   "outputs": [],
   "source": [
    "def simulatedAnnealing(schedule, temperature=10000, cooling=0.99, toPrint=False):\n",
    "    f,w,o = cost_function(schedule)\n",
    "    # set the initial values\n",
    "    best_cost = f+w \n",
    "    itearation = 0\n",
    "    bad_moves = 0\n",
    "    good_moves = 0\n",
    "    best_schedule = schedule[:]\n",
    "    \n",
    "    while temperature>0.1:\n",
    "        itearation+=1\n",
    "        # pick a random neighbour\n",
    "        neighbour = get_random_neighbour(schedule)\n",
    "\n",
    "        # we move to the new neighbour state only if it improves the cost function\n",
    "        # if the neighbour is not improving the cost function, with some probablity we still move into the state \n",
    "        f,w,o = cost_function(neighbour)\n",
    "        cost = f+w\n",
    "        \n",
    "\n",
    "        if best_cost > cost:\n",
    "            best_cost = cost\n",
    "            schedule = neighbour[:]\n",
    "            best_schedule = neighbour[:]\n",
    "            good_moves+=1\n",
    "            \n",
    "        else:\n",
    "            delta = cost - best_cost\n",
    "            probability = pow(math.e,-delta/temperature)\n",
    "\n",
    "            if random.random()<probability:\n",
    "                schedule = neighbour[:]\n",
    "                bad_moves+=1\n",
    "\n",
    "            \n",
    "        temperature = temperature*cooling\n",
    "    \n",
    "    # best schedule found\n",
    "    if toPrint:\n",
    "        print('best',best_schedule,'found after',itearation,'iterations \\n number of bad moves made is',bad_moves,'\\n number of good moves',good_moves)\n",
    "    \n",
    "    return best_schedule\n"
   ]
  },
  {
   "cell_type": "code",
   "execution_count": 97,
   "metadata": {},
   "outputs": [
    {
     "name": "stdout",
     "output_type": "stream",
     "text": [
      "best [(5, 4), (6, 5), (7, 5), (8, 5), (5, 2), (8, 2)] found after 1146 iterations \n",
      " number of bad moves made is 195 \n",
      " number of good moves 19\n"
     ]
    }
   ],
   "source": [
    "best_schedule_by_SimulatedAnnealing = simulatedAnnealing(generate_schedule(), temperature=10000, cooling=0.99, toPrint=True)"
   ]
  },
  {
   "cell_type": "code",
   "execution_count": 98,
   "metadata": {},
   "outputs": [
    {
     "name": "stdout",
     "output_type": "stream",
     "text": [
      "*************************************************************************************************\n",
      "\n",
      "Schedule [(5, 4), (6, 5), (7, 5), (8, 5), (5, 2), (8, 2)]\n",
      "Total flight charge for going to Rome 1348 $\n",
      "Total flight charge for returning from Rome 1208 $\n",
      "Net flight charge for the journey 2556 $\n",
      "Total time spend waiting at airport on arrival at Rome 650 minutes, \t 10hr:50minutes\n",
      "Total time spend waiting at airport on departure at Rome 930 minutes, \t 15hr:30minutes\n",
      "Net time spend waiting 1580 minutes, \t 26hr:20minutes \n",
      "\n",
      "Travelling to Rome\n",
      "  Departure Arrival  Cost  Waiting (minutes) Waiting(hr:mm)\n",
      "0     13:37   15:08   250                320  5hr:20minutes\n",
      "1     15:58   18:40   173                108  1hr:48minutes\n",
      "2     17:07   20:04   291                 24  0hr:24minutes\n",
      "3     18:34   19:36   136                 52  0hr:52minutes\n",
      "4     13:54   18:02   294                146  2hr:26minutes\n",
      "5     18:35   20:28   204                  0   0hr:0minutes\n",
      "\n",
      "Travelling from Rome\n",
      "  Departure Arrival  Cost  Waiting(minutes) Waiting(hr:mm)\n",
      "0     12:31   14:02   234               162  2hr:42minutes\n",
      "1     14:19   17:09   190               270  4hr:30minutes\n",
      "2     14:08   16:09   232               259  4hr:19minutes\n",
      "3     13:39   15:30    74               230  3hr:50minutes\n",
      "4      9:49   13:51   229                 0   0hr:0minutes\n",
      "5      9:58   12:56   249                 9   0hr:9minutes\n",
      "\n",
      "*************************************************************************************************\n",
      "\n"
     ]
    }
   ],
   "source": [
    "f,w,o=cost_function(best_schedule_by_SimulatedAnnealing, True)"
   ]
  },
  {
   "cell_type": "markdown",
   "metadata": {},
   "source": [
    "# Genetic Algorithm"
   ]
  },
  {
   "cell_type": "code",
   "execution_count": 42,
   "metadata": {},
   "outputs": [],
   "source": [
    "def get_random_index(schdeule):\n",
    "    genes = list(range(len(schedule)))\n",
    "    index = random.choice(genes)\n",
    "    return index"
   ]
  },
  {
   "cell_type": "code",
   "execution_count": 43,
   "metadata": {},
   "outputs": [],
   "source": [
    "def mutation(schedule):\n",
    "    \n",
    "    index = get_random_index(schedule)\n",
    "    \n",
    "    option = schedule[index]\n",
    "    a,b = option \n",
    "    \n",
    "    a = random.choice(list(range(10)))\n",
    "    b = random.choice(list(range(10)))\n",
    "    \n",
    "    return schedule[0:index]+[(a,b)]+schedule[index+1:]"
   ]
  },
  {
   "cell_type": "code",
   "execution_count": 44,
   "metadata": {},
   "outputs": [
    {
     "data": {
      "text/plain": [
       "[(7, 6), (5, 4), (7, 4), (8, 2), (6, 4), (7, 3)]"
      ]
     },
     "execution_count": 44,
     "metadata": {},
     "output_type": "execute_result"
    }
   ],
   "source": [
    "# eg: mutation\n",
    "\n",
    "schedule = [(7, 6), (5, 4), (7, 4), (8, 2), (6, 2), (7, 3)]\n",
    "mutation(schedule)"
   ]
  },
  {
   "cell_type": "code",
   "execution_count": 45,
   "metadata": {},
   "outputs": [],
   "source": [
    "def crossover(A, B):\n",
    "    index = get_random_index(A)\n",
    "    return A[:index]+B[index:]"
   ]
  },
  {
   "cell_type": "code",
   "execution_count": 46,
   "metadata": {},
   "outputs": [
    {
     "data": {
      "text/plain": [
       "[(7, 6), (5, 4), (7, 4), (8, 2), (6, 2), (6, 0)]"
      ]
     },
     "execution_count": 46,
     "metadata": {},
     "output_type": "execute_result"
    }
   ],
   "source": [
    "# eg crossover\n",
    "A = [(7, 6), (5, 4), (7, 4), (8, 2), (6, 2), (7, 3)]\n",
    "B = [(3, 8), (4, 4), (3, 4), (2, 1), (6, 8), (6, 0)]\n",
    "\n",
    "crossover(A,B)"
   ]
  },
  {
   "cell_type": "code",
   "execution_count": 47,
   "metadata": {},
   "outputs": [],
   "source": [
    "def random_selection(num):\n",
    "    population = []\n",
    "    for i in range(num):\n",
    "        population.append(generate_schedule())\n",
    "    return population"
   ]
  },
  {
   "cell_type": "code",
   "execution_count": 48,
   "metadata": {},
   "outputs": [
    {
     "data": {
      "text/plain": [
       "[[(5, 8), (0, 9), (3, 5), (0, 2), (7, 2), (5, 0)],\n",
       " [(3, 6), (0, 0), (2, 5), (9, 5), (2, 2), (7, 6)],\n",
       " [(5, 6), (9, 2), (0, 9), (2, 4), (8, 1), (2, 3)],\n",
       " [(6, 4), (8, 3), (4, 3), (9, 8), (6, 2), (7, 9)],\n",
       " [(5, 1), (7, 4), (7, 8), (2, 9), (9, 4), (2, 3)]]"
      ]
     },
     "execution_count": 48,
     "metadata": {},
     "output_type": "execute_result"
    }
   ],
   "source": [
    "# eg: random selection\n",
    "random_selection(5)"
   ]
  },
  {
   "cell_type": "code",
   "execution_count": 49,
   "metadata": {},
   "outputs": [],
   "source": [
    "def get_cost_util(schdeule):\n",
    "    f,w,o = cost_function(schdeule)\n",
    "    return f+w"
   ]
  },
  {
   "cell_type": "code",
   "execution_count": 50,
   "metadata": {},
   "outputs": [],
   "source": [
    "def geneticAlgorithm(population_size, pass_percentage=0.5 ,generations=20, mutation_prob=0.5):\n",
    "\n",
    "    # get a random population\n",
    "    population = random_selection(population_size)\n",
    "\n",
    "    while generations>0:\n",
    "        fit_pop=[]\n",
    "        \n",
    "        # apply fitness function\n",
    "        # sort the population in ascending\n",
    "        sorted_pop = sorted(population, key=lambda x:get_cost_util(x))\n",
    "\n",
    "\n",
    "        # pass the toppers to the next gen\n",
    "        pass_over = population_size*pass_percentage\n",
    "        pass_over_size = math.floor(pass_over)\n",
    "        fit_pop = sorted_pop[:pass_over_size]\n",
    "\n",
    "        iterations = population_size - pass_over_size\n",
    "        for i in range(iterations):\n",
    "\n",
    "            # crossover\n",
    "            schedule_1 = sorted_pop[random.choice(list(range(population_size)))]\n",
    "            schedule_2 = sorted_pop[random.choice(list(range(population_size)))]\n",
    "\n",
    "            cross = crossover(schedule_1, schedule_2)\n",
    "\n",
    "            if random.random()<mutation_prob:\n",
    "                cross = mutation(cross)\n",
    "\n",
    "            fit_pop.append(cross)\n",
    "\n",
    "        population = fit_pop[:]\n",
    "        generations-=1\n",
    "\n",
    "        \n",
    "    \n",
    "\n",
    "    return population\n",
    "    \n",
    "    \n",
    "\n",
    "    "
   ]
  },
  {
   "cell_type": "code",
   "execution_count": 79,
   "metadata": {},
   "outputs": [
    {
     "data": {
      "text/plain": [
       "[[(3, 3), (4, 4), (3, 6), (3, 3), (4, 3), (4, 3)],\n",
       " [(3, 3), (4, 4), (3, 6), (5, 6), (4, 3), (4, 3)],\n",
       " [(3, 3), (4, 4), (3, 6), (2, 3), (2, 2), (4, 3)],\n",
       " [(3, 3), (4, 4), (2, 5), (2, 2), (0, 2), (4, 3)],\n",
       " [(3, 3), (4, 4), (2, 5), (2, 3), (2, 2), (4, 3)],\n",
       " [(3, 3), (4, 4), (2, 5), (4, 2), (2, 2), (4, 3)],\n",
       " [(3, 3), (4, 4), (2, 5), (2, 3), (2, 2), (3, 3)],\n",
       " [(7, 4), (4, 4), (2, 5), (2, 2), (0, 2), (4, 3)],\n",
       " [(3, 3), (4, 4), (2, 5), (2, 3), (2, 2), (4, 3)],\n",
       " [(3, 3), (4, 4), (2, 5), (2, 2), (0, 2), (4, 3)]]"
      ]
     },
     "execution_count": 79,
     "metadata": {},
     "output_type": "execute_result"
    }
   ],
   "source": [
    "best_schedule_by_GeneticAlgorithm = geneticAlgorithm(10)\n",
    "best_schedule_by_GeneticAlgorithm"
   ]
  },
  {
   "cell_type": "code",
   "execution_count": 80,
   "metadata": {},
   "outputs": [
    {
     "name": "stdout",
     "output_type": "stream",
     "text": [
      "*************************************************************************************************\n",
      "\n",
      "Schedule [(3, 3), (4, 4), (3, 6), (3, 3), (4, 3), (4, 3)]\n",
      "Total flight charge for going to Rome 1131 $\n",
      "Total flight charge for returning from Rome 1021 $\n",
      "Net flight charge for the journey 2152 $\n",
      "Total time spend waiting at airport on arrival at Rome 393 minutes, \t 6hr:33minutes\n",
      "Total time spend waiting at airport on departure at Rome 442 minutes, \t 7hr:22minutes\n",
      "Net time spend waiting 835 minutes, \t 13hr:55minutes \n",
      "\n",
      "Travelling to Rome\n",
      "  Departure Arrival  Cost  Waiting (minutes) Waiting(hr:mm)\n",
      "0     11:08   13:07   175                138  2hr:18minutes\n",
      "1     12:44   14:17   134                 68   1hr:8minutes\n",
      "2     11:28   14:40   248                 45  0hr:45minutes\n",
      "3     11:16   13:29    83                116  1hr:56minutes\n",
      "4     12:19   15:25   342                  0   0hr:0minutes\n",
      "5     12:08   14:59   149                 26  0hr:26minutes\n",
      "\n",
      "Travelling from Rome\n",
      "  Departure Arrival  Cost  Waiting(minutes) Waiting(hr:mm)\n",
      "0     11:07   13:24   171                35  0hr:35minutes\n",
      "1     12:08   14:47   231                96  1hr:36minutes\n",
      "2     15:23   18:49   150               291  4hr:51minutes\n",
      "3     10:33   12:03    74                 1   0hr:1minutes\n",
      "4     10:51   14:16   256                19  0hr:19minutes\n",
      "5     10:32   13:16   139                 0   0hr:0minutes\n",
      "\n",
      "*************************************************************************************************\n",
      "\n"
     ]
    }
   ],
   "source": [
    "f,w,o = cost_function(best_schedule_by_GeneticAlgorithm[0],True)"
   ]
  },
  {
   "cell_type": "code",
   "execution_count": null,
   "metadata": {},
   "outputs": [],
   "source": []
  },
  {
   "cell_type": "code",
   "execution_count": null,
   "metadata": {},
   "outputs": [],
   "source": []
  }
 ],
 "metadata": {
  "kernelspec": {
   "display_name": "Python 3",
   "language": "python",
   "name": "python3"
  },
  "language_info": {
   "codemirror_mode": {
    "name": "ipython",
    "version": 3
   },
   "file_extension": ".py",
   "mimetype": "text/x-python",
   "name": "python",
   "nbconvert_exporter": "python",
   "pygments_lexer": "ipython3",
   "version": "3.7.9"
  }
 },
 "nbformat": 4,
 "nbformat_minor": 4
}
